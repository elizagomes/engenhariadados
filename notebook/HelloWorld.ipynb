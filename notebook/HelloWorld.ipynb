{
 "cells": [
  {
   "cell_type": "markdown",
   "id": "945755e0-a3bb-4f1b-a7ba-7ea78f7300bc",
   "metadata": {},
   "source": [
    "### Testando instalação de libs"
   ]
  },
  {
   "cell_type": "code",
   "execution_count": null,
   "id": "b2c0ffc1-d4a0-45ef-b873-9b579026d391",
   "metadata": {},
   "outputs": [],
   "source": [
    "%pip install minio"
   ]
  },
  {
   "cell_type": "markdown",
   "id": "2130c581-8955-452b-8468-bbdbe96926d5",
   "metadata": {},
   "source": [
    "### Import das libs"
   ]
  },
  {
   "cell_type": "code",
   "execution_count": null,
   "id": "2ad9f64f-84d2-4516-bf27-cd2727eb08dc",
   "metadata": {},
   "outputs": [],
   "source": [
    "from pyspark.sql import SparkSession\n",
    "from pyspark.sql.types import StructType, StructField, StringType, IntegerType\n",
    "from minio import Minio\n",
    "from minio.error import S3Error"
   ]
  },
  {
   "cell_type": "markdown",
   "id": "b2f6bf1a-37a3-4772-83e8-0a9dbc4ac62e",
   "metadata": {},
   "source": [
    "### Testando PySpark e driver do Postgresql"
   ]
  },
  {
   "cell_type": "code",
   "execution_count": null,
   "id": "e582fbca-0fc4-4d22-874b-fc0ac0f70473",
   "metadata": {},
   "outputs": [],
   "source": [
    "spark = SparkSession.builder \\\n",
    "    .appName(\"CSV to PostgreSQL\") \\\n",
    "    .config(\"spark.driver.extraClassPath\", \"/home/jovyan/notebooks/jars/postgresql-42.6.0.jar\") \\\n",
    "    .config(\"spark.driver.memory\", \"4g\") \\\n",
    "    .config(\"spark.executor.memory\", \"4g\") \\\n",
    "    .getOrCreate()\n",
    "\n",
    "csv_file_path = \"/home/jovyan/notebooks/example.csv\"\n",
    "\n",
    "csv_schema = StructType([\n",
    "    StructField(\"id\", IntegerType(), True),\n",
    "    StructField(\"name\", StringType(), True),    \n",
    "])\n",
    "\n",
    "df = spark.read.csv(csv_file_path, header=True, schema=csv_schema)\n",
    "\n",
    "postgres_url = \"jdbc:postgresql://postgres:5432/prova\"\n",
    "postgres_properties = {\n",
    "    \"user\": \"postgres\",\n",
    "    \"password\": \"password\",\n",
    "    \"driver\": \"org.postgresql.Driver\"\n",
    "}\n",
    "postgres_table = \"users\"\n",
    "\n",
    "df.write \\\n",
    "    .format(\"jdbc\") \\\n",
    "    .option(\"url\", postgres_url) \\\n",
    "    .option(\"dbtable\", postgres_table) \\\n",
    "    .option(\"user\", postgres_properties[\"user\"]) \\\n",
    "    .option(\"password\", postgres_properties[\"password\"]) \\\n",
    "    .option(\"driver\", postgres_properties[\"driver\"]) \\\n",
    "    .mode(\"overwrite\") \\\n",
    "    .save()\n",
    "\n",
    "print('Dados inseridos no banco de dados!')\n",
    "\n",
    "df.show()\n",
    "\n",
    "spark.stop()"
   ]
  },
  {
   "cell_type": "markdown",
   "id": "35463be1-139d-4b0f-98e8-b52e4b0b2c7c",
   "metadata": {},
   "source": [
    "### Testando a conexão com Minio"
   ]
  },
  {
   "cell_type": "code",
   "execution_count": null,
   "id": "1aa7ef18-6976-4b8f-8a46-ae1b8b88a583",
   "metadata": {},
   "outputs": [],
   "source": [
    "minio_endpoint = 'minio:9000'\n",
    "minio_access_key = 'minioaccesskey'\n",
    "minio_secret_key = 'miniosecretkey'\n",
    "bucket_name = 'raw'\n",
    "local_file_path = '/home/jovyan/notebooks/example.csv'\n",
    "minio_object_name = 'example.csv'\n",
    "\n",
    "minio_client = Minio(minio_endpoint, access_key=minio_access_key, secret_key=minio_secret_key, secure=False)\n",
    "\n",
    "if not minio_client.bucket_exists(bucket_name):\n",
    "    minio_client.make_bucket(bucket_name)\n",
    "\n",
    "try:\n",
    "    minio_client.fput_object(bucket_name, minio_object_name, local_file_path)\n",
    "    print(f\"Arquivo '{minio_object_name}' enviado com sucesso para o MinIO.\")\n",
    "except S3Error as e:\n",
    "    print(f\"Erro ao enviar o arquivo para o MinIO: {e}\")"
   ]
  }
 ],
 "metadata": {
  "kernelspec": {
   "display_name": "Python 3 (ipykernel)",
   "language": "python",
   "name": "python3"
  },
  "language_info": {
   "codemirror_mode": {
    "name": "ipython",
    "version": 3
   },
   "file_extension": ".py",
   "mimetype": "text/x-python",
   "name": "python",
   "nbconvert_exporter": "python",
   "pygments_lexer": "ipython3",
   "version": "3.11.6"
  }
 },
 "nbformat": 4,
 "nbformat_minor": 5
}
